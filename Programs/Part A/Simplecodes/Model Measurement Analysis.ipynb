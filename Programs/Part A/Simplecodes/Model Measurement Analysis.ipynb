{
 "cells": [
  {
   "cell_type": "code",
   "execution_count": 1,
   "id": "9deabcf2",
   "metadata": {},
   "outputs": [],
   "source": [
    "import seaborn as sb\n",
    "import pandas as pd\n",
    "import matplotlib.pyplot as plt\n",
    "import random\n",
    "from sklearn.metrics import *"
   ]
  },
  {
   "cell_type": "code",
   "execution_count": 2,
   "id": "69377117",
   "metadata": {},
   "outputs": [
    {
     "name": "stdout",
     "output_type": "stream",
     "text": [
      "Actual data      : [1, 1, 1, 0, 1, 1, 0, 1, 0, 0, 0, 0, 1, 1, 1, 1, 0, 1, 1, 1]\n",
      "Predicted data   : [1, 1, 1, 0, 1, 1, 0, 1, 1, 0, 0, 1, 1, 1, 1, 1, 0, 1, 1, 1]\n"
     ]
    }
   ],
   "source": [
    "actual_data = [random.randint(0,1) for i in range(20)]\n",
    "predicted_data = actual_data[0:8] + [1,0,0,1] + actual_data[12:]\n",
    "print(\"Actual data      :\",actual_data)\n",
    "print(\"Predicted data   :\",predicted_data)"
   ]
  },
  {
   "cell_type": "code",
   "execution_count": 3,
   "id": "54862e07",
   "metadata": {},
   "outputs": [
    {
     "name": "stdout",
     "output_type": "stream",
     "text": [
      "TN:    5\n",
      "FP:    2\n",
      "FN:    0\n",
      "TP:    13\n"
     ]
    }
   ],
   "source": [
    "tn,fp,fn,tp = confusion_matrix(actual_data,predicted_data).ravel()\n",
    "print(\"TN:   \",tn)\n",
    "print(\"FP:   \",fp)\n",
    "print(\"FN:   \",fn)\n",
    "print(\"TP:   \",tp)"
   ]
  },
  {
   "cell_type": "code",
   "execution_count": 4,
   "id": "c2142ba7",
   "metadata": {},
   "outputs": [],
   "source": [
    "def accuracy(tn,fp,fn,tp):\n",
    "    return (tp+tn)/(tp+tn+fp+fn)\n",
    "\n",
    "def precision(tp,fp):\n",
    "    return tp/(tp+fp)\n",
    "\n",
    "def recall(tp,fn):\n",
    "    return tp/(tp+fn)\n",
    "\n",
    "def f1(tp,fp,fn):\n",
    "    p = precision(tp,fp)\n",
    "    r = recall(tp,fn)\n",
    "    return (2*p*r)/(p+r)\n",
    "\n",
    "def mcc(tn,fp,fn,tp):\n",
    "    return ((tp*tn)-(fp*fn))/(((tp+fp)*(fp+tn)*(tn+fn)*(fn+tp))**(1/2))"
   ]
  },
  {
   "cell_type": "code",
   "execution_count": 8,
   "id": "ee8ede35",
   "metadata": {
    "scrolled": true
   },
   "outputs": [
    {
     "name": "stdout",
     "output_type": "stream",
     "text": [
      "My accuracy        : 0.9\n",
      "sklearn accuracy   : 0.9\n",
      "My precision       : 0.8666666666666667\n",
      "sklearn precision  : 0.8666666666666667\n",
      "My recall          : 1.0\n",
      "sklearn recall     : 1.0\n",
      "My f1 score        : 0.9285714285714286\n",
      "sklearn f1 score   : 0.9285714285714286\n",
      "My MCC             : 0.7867957924694432\n",
      "sklearn MCC        : 0.7867957924694432\n"
     ]
    }
   ],
   "source": [
    "my_accuracy = accuracy(tn,fp,fn,tp)\n",
    "sk_accuracy = accuracy_score(actual_data,predicted_data)\n",
    "print(\"My accuracy        :\",my_accuracy)\n",
    "print(\"sklearn accuracy   :\",sk_accuracy)\n",
    "\n",
    "my_precision = precision(tp,fp)\n",
    "sk_precision = precision_score(actual_data,predicted_data)\n",
    "print(\"My precision       :\",my_precision)\n",
    "print(\"sklearn precision  :\",sk_precision)\n",
    "\n",
    "my_recall = recall(tp,fn)\n",
    "sk_recall = recall_score(actual_data,predicted_data)\n",
    "print(\"My recall          :\",my_recall)\n",
    "print(\"sklearn recall     :\",sk_recall)\n",
    "\n",
    "my_f1 = f1(tp,fp,fn)\n",
    "sk_f1 = f1_score(actual_data,predicted_data)\n",
    "print(\"My f1 score        :\",my_f1)\n",
    "print(\"sklearn f1 score   :\",sk_f1)\n",
    "\n",
    "my_mcc = mcc(tn,fp,fn,tp)\n",
    "sk_mcc = matthews_corrcoef(actual_data,predicted_data)\n",
    "print(\"My MCC             :\",my_mcc)\n",
    "print(\"sklearn MCC        :\",sk_mcc)"
   ]
  },
  {
   "cell_type": "code",
   "execution_count": 9,
   "id": "36830d98",
   "metadata": {},
   "outputs": [
    {
     "data": {
      "text/plain": [
       "<AxesSubplot:>"
      ]
     },
     "execution_count": 9,
     "metadata": {},
     "output_type": "execute_result"
    },
    {
     "data": {
      "image/png": "[encoded data removed]",
      "text/plain": [
       "<Figure size 640x480 with 2 Axes>"
      ]
     },
     "metadata": {},
     "output_type": "display_data"
    }
   ],
   "source": [
    "sk_array = [[tp,fp],[fn,tp]]\n",
    "df=pd.DataFrame(sk_array,range(2),range(2))\n",
    "sb.heatmap(df,annot=True)"
   ]
  },
  {
   "cell_type": "code",
   "execution_count": 10,
   "id": "8bd6ff6c",
   "metadata": {},
   "outputs": [
    {
     "name": "stdout",
     "output_type": "stream",
     "text": [
      "sklearn ROC-AUC score  : 0.8571428571428572\n"
     ]
    },
    {
     "data": {
      "image/png": "[encoded data removed]",
      "text/plain": [
       "<Figure size 640x480 with 1 Axes>"
      ]
     },
     "metadata": {},
     "output_type": "display_data"
    }
   ],
   "source": [
    "auc = roc_auc_score(actual_data,predicted_data)\n",
    "print(\"sklearn ROC-AUC score  :\",auc)\n",
    "\n",
    "fpr,tpr,_ = roc_curve(actual_data,predicted_data)\n",
    "plt.plot(fpr,tpr,color=\"blue\",lw=2)\n",
    "plt.plot([0,1],[0,1],color=\"red\",lw=2,linestyle=\"--\")\n",
    "plt.xlabel=(\"FPR\")\n",
    "plt.ylabel=(\"TPR\")\n",
    "plt.title=(\"ROC Curve\")"
   ]
  },
  {
   "cell_type": "code",
   "execution_count": null,
   "id": "d84624e0",
   "metadata": {},
   "outputs": [],
   "source": []
  }
 ],
 "metadata": {
  "kernelspec": {
   "display_name": "Python 3 (ipykernel)",
   "language": "python",
   "name": "python3"
  },
  "language_info": {
   "codemirror_mode": {
    "name": "ipython",
    "version": 3
   },
   "file_extension": ".py",
   "mimetype": "text/x-python",
   "name": "python",
   "nbconvert_exporter": "python",
   "pygments_lexer": "ipython3",
   "version": "3.9.13"
  }
 },
 "nbformat": 4,
 "nbformat_minor": 5
}
