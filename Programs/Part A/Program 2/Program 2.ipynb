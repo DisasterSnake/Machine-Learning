{
 "cells": [
  {
   "cell_type": "code",
   "execution_count": 24,
   "id": "7a3542f2",
   "metadata": {},
   "outputs": [],
   "source": [
    "import numpy as np\n",
    "import pandas as pd\n",
    "import collections\n",
    "import matplotlib.pyplot as plt\n",
    "from sklearn.model_selection import train_test_split\n",
    "from sklearn.preprocessing import StandardScaler\n",
    "from sklearn.metrics import accuracy_score\n",
    "from collections import Counter\n",
    "from scipy.spatial import distance"
   ]
  },
  {
   "cell_type": "code",
   "execution_count": 25,
   "id": "ac1225e8",
   "metadata": {},
   "outputs": [],
   "source": [
    "file_path = \"/Users/syedreehan/Desktop/Program 2/diabetes.csv\"\n",
    "data = pd.read_csv(file_path)"
   ]
  },
  {
   "cell_type": "code",
   "execution_count": 26,
   "id": "a644fda3",
   "metadata": {},
   "outputs": [],
   "source": [
    "X = data.drop(\"Outcome\", axis=1)\n",
    "y = data[\"Outcome\"]\n",
    "X_train, X_test, y_train, y_test = train_test_split(X, y, test_size=0.2, random_state=42)\n"
   ]
  },
  {
   "cell_type": "code",
   "execution_count": 27,
   "id": "150f2d2b",
   "metadata": {},
   "outputs": [],
   "source": [
    "scaler = StandardScaler()\n",
    "X_train = scaler.fit_transform(X_train)\n",
    "X_test = scaler.transform(X_test)"
   ]
  },
  {
   "cell_type": "code",
   "execution_count": 28,
   "id": "7fe4b3c0",
   "metadata": {},
   "outputs": [],
   "source": [
    "def euclidean_distance(a, b):\n",
    "    return np.sqrt(np.sum((a - b) ** 2))\n",
    "\n",
    "def knn(X_train, y_train, x, k=5, weights=None, metric='euclidean'):\n",
    "    if weights is None:\n",
    "        weights = np.ones(X_train.shape[1])\n",
    "    dist_func = {'euclidean': distance.euclidean, 'manhattan': distance.cityblock,\n",
    "                 'minkowski': lambda a, b: distance.minkowski(a, b, p=3)}.get(metric)\n",
    "    if not dist_func:\n",
    "        raise ValueError(\"Invalid distance metric specified\")\n",
    "    \n",
    "    distances = [dist_func(X_train[i] * weights, x * weights) for i in range(len(X_train))]\n",
    "    k_indices = np.argsort(distances)[:k]\n",
    "    return Counter(y_train.iloc[k_indices]).most_common(1)[0][0]\n",
    "\n",
    "def predict(X_train, y_train, X_test, k=5, weights=None, metric='euclidean'):\n",
    "    return [knn(X_train, y_train, x, k, weights, metric) for x in X_test]"
   ]
  },
  {
   "cell_type": "code",
   "execution_count": 29,
   "id": "d6ea9c87",
   "metadata": {},
   "outputs": [
    {
     "name": "stdout",
     "output_type": "stream",
     "text": [
      "Accuracy with k=7 and weighted features: 0.71\n",
      "Accuracy (Euclidean): 0.69\n",
      "Accuracy (Manhattan): 0.66\n",
      "Accuracy (Minkowski): 0.71\n"
     ]
    }
   ],
   "source": [
    "k = 7\n",
    "weights = np.array([2.0, 2.0, 2.5, 0.5, 2.5, 1.0, 0.5, 1.0])  # Define custom weights for each feature\n",
    "y_pred_weighted = predict(X_train, y_train, X_test, k, weights)\n",
    "accuracy_weighted = accuracy_score(y_test, y_pred_weighted)\n",
    "print(f\"Accuracy with k={k} and weighted features: {accuracy_weighted:.2f}\")\n",
    "\n",
    "y_pred_euclidean = predict(X_train, y_train, X_test, k=5, weights=None, metric='euclidean')\n",
    "y_pred_manhattan = predict(X_train, y_train, X_test, k=5, weights=None, metric='manhattan')\n",
    "y_pred_minkowski = predict(X_train, y_train, X_test, k=5, weights=None, metric='minkowski')\n",
    "\n",
    "accuracy_euclidean = accuracy_score(y_test, y_pred_euclidean)\n",
    "accuracy_manhattan = accuracy_score(y_test, y_pred_manhattan)\n",
    "accuracy_minkowski = accuracy_score(y_test, y_pred_minkowski)\n",
    "\n",
    "print(f\"Accuracy (Euclidean): {accuracy_euclidean:.2f}\")\n",
    "print(f\"Accuracy (Manhattan): {accuracy_manhattan:.2f}\")\n",
    "print(f\"Accuracy (Minkowski): {accuracy_minkowski:.2f}\")\n",
    "\n"
   ]
  },
  {
   "cell_type": "code",
   "execution_count": null,
   "id": "a5de1efe",
   "metadata": {},
   "outputs": [],
   "source": [
    "k_values = list(range(50, 100))\n",
    "\n",
    "# Calculate accuracies for different distance metrics\n",
    "accuracies_euclidean = [accuracy_score(y_test, predict(X_train, y_train, X_test, k, metric='euclidean')) for k in k_values]\n",
    "accuracies_manhattan = [accuracy_score(y_test, predict(X_train, y_train, X_test, k, metric='manhattan')) for k in k_values]\n",
    "accuracies_minkowski = [accuracy_score(y_test, predict(X_train, y_train, X_test, k, metric='minkowski')) for k in k_values]\n",
    "\n",
    "# Plot the graphs\n",
    "plt.plot(k_values, accuracies_euclidean, label='Euclidean')\n",
    "plt.plot(k_values, accuracies_manhattan, label='Manhattan')\n",
    "plt.plot(k_values, accuracies_minkowski, label='Minkowski')\n",
    "plt.xlabel(\"K\")\n",
    "plt.ylabel(\"Accuracy\")\n",
    "plt.title(\"K Value vs Accuracy for Different Distance Metrics\")\n",
    "plt.grid()\n",
    "plt.legend()\n",
    "plt.show()\n"
   ]
  },
  {
   "cell_type": "code",
   "execution_count": null,
   "id": "4f12159f",
   "metadata": {},
   "outputs": [],
   "source": []
  }
 ],
 "metadata": {
  "kernelspec": {
   "display_name": "Python 3 (ipykernel)",
   "language": "python",
   "name": "python3"
  },
  "language_info": {
   "codemirror_mode": {
    "name": "ipython",
    "version": 3
   },
   "file_extension": ".py",
   "mimetype": "text/x-python",
   "name": "python",
   "nbconvert_exporter": "python",
   "pygments_lexer": "ipython3",
   "version": "3.10.9"
  }
 },
 "nbformat": 4,
 "nbformat_minor": 5
}
